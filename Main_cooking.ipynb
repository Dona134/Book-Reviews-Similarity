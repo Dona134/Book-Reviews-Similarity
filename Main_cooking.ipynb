{
  "cells": [
    {
      "cell_type": "markdown",
      "metadata": {
        "id": "view-in-github",
        "colab_type": "text"
      },
      "source": [
        "<a href=\"https://colab.research.google.com/github/Dona134/Book-Reviews-Similarity/blob/main/Main_cooking.ipynb\" target=\"_parent\"><img src=\"https://colab.research.google.com/assets/colab-badge.svg\" alt=\"Open In Colab\"/></a>"
      ]
    },
    {
      "cell_type": "markdown",
      "metadata": {
        "id": "SzyFawzA9jev"
      },
      "source": [
        "## Import Libraries"
      ]
    },
    {
      "cell_type": "code",
      "execution_count": 1,
      "metadata": {
        "id": "ZMD_Kazz9jex"
      },
      "outputs": [],
      "source": [
        "import numpy as np\n",
        "import pandas as pd\n",
        "import ast\n",
        "import os\n",
        "import zipfile"
      ]
    },
    {
      "cell_type": "code",
      "execution_count": 2,
      "metadata": {
        "id": "h9hcSTrB9jey"
      },
      "outputs": [],
      "source": [
        "from pyspark.sql import SparkSession\n",
        "from pyspark.sql.functions import col, lower, regexp_replace\n",
        "from pyspark.ml.feature import MinHashLSH, HashingTF\n",
        "from pyspark.sql.functions import udf\n",
        "from pyspark.sql.types import ArrayType, StringType"
      ]
    },
    {
      "cell_type": "code",
      "execution_count": 3,
      "metadata": {
        "id": "82DqN_H09jez"
      },
      "outputs": [],
      "source": [
        "from pyspark.sql import SparkSession"
      ]
    },
    {
      "cell_type": "markdown",
      "metadata": {
        "id": "d6uzEY-j9jez"
      },
      "source": [
        "## Initialize Spark Session"
      ]
    },
    {
      "cell_type": "code",
      "execution_count": 4,
      "metadata": {
        "id": "oFE9Pqj19jez"
      },
      "outputs": [],
      "source": [
        "spark = SparkSession.builder \\\n",
        "    .appName(\"BooksReviewSimilarity\") \\\n",
        "    .config(\"spark.driver.memory\", \"8g\") \\\n",
        "    .master(\"local[*]\") \\\n",
        "    .getOrCreate()"
      ]
    },
    {
      "cell_type": "markdown",
      "metadata": {
        "id": "9PmtjnWw9je0"
      },
      "source": [
        "## Load Data"
      ]
    },
    {
      "cell_type": "code",
      "execution_count": 5,
      "metadata": {
        "id": "6YsJj37t9je0"
      },
      "outputs": [],
      "source": [
        "df_cooking = spark.read.csv(\"df_cooking.csv\", header=True, inferSchema=True)"
      ]
    },
    {
      "cell_type": "markdown",
      "metadata": {
        "id": "9WXWsE7j9je0"
      },
      "source": [
        "## Data Exploration"
      ]
    },
    {
      "cell_type": "code",
      "execution_count": 6,
      "metadata": {
        "id": "faofBf099je0",
        "outputId": "88f1ece7-17d1-44f7-8585-113dd61ffea3",
        "colab": {
          "base_uri": "https://localhost:8080/"
        }
      },
      "outputs": [
        {
          "output_type": "stream",
          "name": "stdout",
          "text": [
            "+----------------+--------------------+--------------------+\n",
            "|           Title|         review/text|             User_id|\n",
            "+----------------+--------------------+--------------------+\n",
            "|Alaska Sourdough|I have been using...|       AC58Z72OB2DDX|\n",
            "|Alaska Sourdough|My poor dogeared,...|      A3CNQIKVTG9QYO|\n",
            "|Alaska Sourdough|As a former Alask...|      A2UMP9TJTJ6A6B|\n",
            "|Alaska Sourdough|\"For those of us ...| and baking soda ...|\n",
            "|Alaska Sourdough|Make the most sub...|      A22T74YNRM8NTK|\n",
            "+----------------+--------------------+--------------------+\n",
            "only showing top 5 rows\n",
            "\n"
          ]
        }
      ],
      "source": [
        "df_cooking.show(5)"
      ]
    },
    {
      "cell_type": "code",
      "execution_count": 7,
      "metadata": {
        "id": "y1XktX6r9je1",
        "outputId": "1f53fb12-7803-4187-fb15-a2c4fc8f64da",
        "colab": {
          "base_uri": "https://localhost:8080/"
        }
      },
      "outputs": [
        {
          "output_type": "execute_result",
          "data": {
            "text/plain": [
              "(22434, 3)"
            ]
          },
          "metadata": {},
          "execution_count": 7
        }
      ],
      "source": [
        "df_cooking.count(), len(df_cooking.columns)"
      ]
    },
    {
      "cell_type": "markdown",
      "metadata": {
        "id": "ysJzFKPh9je1"
      },
      "source": [
        "## Data Subsampling"
      ]
    },
    {
      "cell_type": "code",
      "execution_count": 8,
      "metadata": {
        "id": "wjh-j_Fp9je1",
        "outputId": "f9f85a99-7be7-4266-842b-db6374fdf597",
        "colab": {
          "base_uri": "https://localhost:8080/"
        }
      },
      "outputs": [
        {
          "output_type": "execute_result",
          "data": {
            "text/plain": [
              "(11217, 3)"
            ]
          },
          "metadata": {},
          "execution_count": 8
        }
      ],
      "source": [
        "# subsample the dataset (50%)\n",
        "# df_cooking = df_cooking.sample(0.5, seed=123)\n",
        "# df_cooking.count(), len(df_cooking.columns)\n",
        "\n",
        "\n",
        "total_rows = df_cooking.count()\n",
        "\n",
        "# Calculate the number of rows for the first half\n",
        "half_rows = total_rows // 2\n",
        "\n",
        "# Subset the first half of the dataset\n",
        "df_cooking = df_cooking.limit(half_rows)\n",
        "\n",
        "df_cooking.count(), len(df_cooking.columns)"
      ]
    },
    {
      "cell_type": "markdown",
      "metadata": {
        "id": "oPBlSZOh9je1"
      },
      "source": [
        "## Data Cleaning"
      ]
    },
    {
      "cell_type": "code",
      "execution_count": 9,
      "metadata": {
        "id": "eD-phdLj9je1",
        "outputId": "16194e6f-fe52-4f1d-b451-992c366da22b",
        "colab": {
          "base_uri": "https://localhost:8080/"
        }
      },
      "outputs": [
        {
          "output_type": "execute_result",
          "data": {
            "text/plain": [
              "(9706, 3)"
            ]
          },
          "metadata": {},
          "execution_count": 9
        }
      ],
      "source": [
        "from pyspark.sql.functions import col, upper\n",
        "\n",
        "# drop rows where User_id is not all caps and that has spaces\n",
        "df_cooking = df_cooking.filter(\n",
        "\t(col(\"User_id\") == upper(col(\"User_id\"))) & (~col(\"User_id\").contains(\" \"))\n",
        ")\n",
        "df_cooking.count(), len(df_cooking.columns)"
      ]
    },
    {
      "cell_type": "code",
      "execution_count": 10,
      "metadata": {
        "id": "ojGzp5Ik9je2"
      },
      "outputs": [],
      "source": [
        "import re"
      ]
    },
    {
      "cell_type": "code",
      "execution_count": 11,
      "metadata": {
        "id": "FwuZlpJP9je2"
      },
      "outputs": [],
      "source": [
        "# ensure that a user only has one entry per book\n",
        "df_cooking = df_cooking.dropDuplicates(\n",
        "    subset=[\"Title\", \"User_id\"]\n",
        ")"
      ]
    },
    {
      "cell_type": "code",
      "execution_count": 12,
      "metadata": {
        "id": "EeJ575UM9je2"
      },
      "outputs": [],
      "source": [
        "from pyspark.sql.functions import lower, regexp_replace"
      ]
    },
    {
      "cell_type": "code",
      "execution_count": 13,
      "metadata": {
        "id": "ZWymFgnY9je2"
      },
      "outputs": [],
      "source": [
        "df_clean = df_cooking.withColumn(\n",
        "    \"clean_text\",\n",
        "    regexp_replace(lower(col(\"review/text\")), r'[^\\w\\s]', '')\n",
        ")"
      ]
    },
    {
      "cell_type": "code",
      "execution_count": 14,
      "metadata": {
        "id": "G1S07IrY9je2",
        "outputId": "4d9ecf0b-454d-4b21-e6d4-63e7b95f9cfb",
        "colab": {
          "base_uri": "https://localhost:8080/"
        }
      },
      "outputs": [
        {
          "output_type": "stream",
          "name": "stdout",
          "text": [
            "+--------------------+--------------------+--------------+--------------------+\n",
            "|               Title|         review/text|       User_id|          clean_text|\n",
            "+--------------------+--------------------+--------------+--------------------+\n",
            "|\"Cooking with Sei...|The book was deli...|A1FTPHKCHYAJTY|the book was deli...|\n",
            "|\"Cooking with Sei...|The Book of Seita...|A1I3R6RQ3XI76B|the book of seita...|\n",
            "|\"Cooking with Sei...|it was what i nee...|A2SK6R2DPGY3P2|it was what i nee...|\n",
            "|\"Cooking with Sei...|\"As a vegetarian ...|A363UEL2VJNBX9|as a vegetarian i...|\n",
            "|\"Cooking with Sei...|Gluten has been a...|A3HRBWBN7DH9XV|gluten has been a...|\n",
            "+--------------------+--------------------+--------------+--------------------+\n",
            "only showing top 5 rows\n",
            "\n"
          ]
        }
      ],
      "source": [
        "df_clean.show(5)"
      ]
    },
    {
      "cell_type": "markdown",
      "metadata": {
        "id": "rWKILINz9je2"
      },
      "source": [
        "## Text Preprocessing"
      ]
    },
    {
      "cell_type": "code",
      "execution_count": 15,
      "metadata": {
        "id": "2xC8eQQ19je2"
      },
      "outputs": [],
      "source": [
        "from pyspark.sql.functions import udf\n",
        "from pyspark.sql.types import ArrayType, StringType"
      ]
    },
    {
      "cell_type": "code",
      "execution_count": 16,
      "metadata": {
        "id": "9c9YL1VG9je2"
      },
      "outputs": [],
      "source": [
        "from pyspark.ml.feature import Tokenizer, StopWordsRemover, HashingTF, MinHashLSH"
      ]
    },
    {
      "cell_type": "code",
      "execution_count": 17,
      "metadata": {
        "id": "KsauRehD9je3"
      },
      "outputs": [],
      "source": [
        "tokenizer = Tokenizer(inputCol=\"clean_text\", outputCol=\"words\")\n",
        "df_tokenized = tokenizer.transform(df_clean)"
      ]
    },
    {
      "cell_type": "code",
      "execution_count": 18,
      "metadata": {
        "id": "Byz4INKG9je3"
      },
      "outputs": [],
      "source": [
        "from pyspark.ml.feature import StopWordsRemover\n",
        "\n",
        "# Define custom stopwords\n",
        "custom_stopwords = [\"book\", \"read\", \"recipe\", \"good\", \"great\"]\n",
        "\n",
        "# Combine with default stopwords\n",
        "default_stopwords = StopWordsRemover.loadDefaultStopWords(\"english\")\n",
        "all_stopwords = default_stopwords + custom_stopwords\n",
        "\n",
        "remover = StopWordsRemover(inputCol=\"words\", outputCol=\"filtered_text\", stopWords=all_stopwords)\n",
        "df_no_stop = remover.transform(df_tokenized)"
      ]
    },
    {
      "cell_type": "markdown",
      "metadata": {
        "id": "aaLpgwfc9je3"
      },
      "source": [
        "## Feature Engineering"
      ]
    },
    {
      "cell_type": "code",
      "execution_count": 19,
      "metadata": {
        "id": "hF1JJI2Z9je3",
        "outputId": "ad475283-7e6e-4bd0-82fb-29e0b6ce18e6",
        "colab": {
          "base_uri": "https://localhost:8080/"
        }
      },
      "outputs": [
        {
          "output_type": "stream",
          "name": "stdout",
          "text": [
            "+--------------------+--------------------+--------------+--------------------+--------------------+--------------------+--------------------+\n",
            "|               Title|         review/text|       User_id|          clean_text|               words|       filtered_text|            shingles|\n",
            "+--------------------+--------------------+--------------+--------------------+--------------------+--------------------+--------------------+\n",
            "|\"Cooking with Sei...|The book was deli...|A1FTPHKCHYAJTY|the book was deli...|[the, book, was, ...|[delivered, speed...|[delivered speedy...|\n",
            "|\"Cooking with Sei...|The Book of Seita...|A1I3R6RQ3XI76B|the book of seita...|[the, book, of, s...|[seitan, instruct...|[seitan instructi...|\n",
            "|\"Cooking with Sei...|it was what i nee...|A2SK6R2DPGY3P2|it was what i nee...|[it, was, what, i...|[needed, learning...|[needed learning,...|\n",
            "|\"Cooking with Sei...|\"As a vegetarian ...|A363UEL2VJNBX9|as a vegetarian i...|[as, a, vegetaria...|[vegetarian, alwa...|[vegetarian alway...|\n",
            "|\"Cooking with Sei...|Gluten has been a...|A3HRBWBN7DH9XV|gluten has been a...|[gluten, has, bee...|[gluten, wellkept...|[gluten wellkept,...|\n",
            "+--------------------+--------------------+--------------+--------------------+--------------------+--------------------+--------------------+\n",
            "only showing top 5 rows\n",
            "\n"
          ]
        }
      ],
      "source": [
        "# Create word-level shingles (n-grams)\n",
        "def create_word_shingles(words, n=2):\n",
        "    if len(words) < n:\n",
        "        return [\" \".join(words)]\n",
        "    return [\" \".join(words[i:i+n]) for i in range(len(words) - n + 1)]\n",
        "\n",
        "# Define UDF\n",
        "shingle_udf = udf(lambda words: create_word_shingles(words, n=2), ArrayType(StringType()))\n",
        "\n",
        "# Apply UDF to generate shingles\n",
        "df_shingled = df_no_stop.withColumn(\"shingles\", shingle_udf(col(\"filtered_text\")))\n",
        "\n",
        "df_shingled.show(5)"
      ]
    },
    {
      "cell_type": "code",
      "execution_count": 20,
      "metadata": {
        "id": "iiLsL6BY9je3"
      },
      "outputs": [],
      "source": [
        "# Create feature vectors (using hashing trick)\n",
        "from pyspark.ml.feature import HashingTF\n",
        "\n",
        "hashing_tf = HashingTF(inputCol=\"shingles\", outputCol=\"features\", numFeatures=1 << 20)  # 2^20 features\n",
        "featurized_data = hashing_tf.transform(df_shingled)   #each bigram gets hashed to an index between 0 and 1,048,575 and the value = freq of occurence (sparce vector)."
      ]
    },
    {
      "cell_type": "code",
      "execution_count": 21,
      "metadata": {
        "id": "qGoLLe5f9je3",
        "outputId": "8c9b9fee-684d-41ed-fafd-cdd604cb9c82",
        "colab": {
          "base_uri": "https://localhost:8080/"
        }
      },
      "outputs": [
        {
          "output_type": "stream",
          "name": "stdout",
          "text": [
            "+--------------------+--------------------+--------------+--------------------+--------------------+--------------------+--------------------+--------------------+\n",
            "|               Title|         review/text|       User_id|          clean_text|               words|       filtered_text|            shingles|            features|\n",
            "+--------------------+--------------------+--------------+--------------------+--------------------+--------------------+--------------------+--------------------+\n",
            "|\"Cooking with Sei...|The book was deli...|A1FTPHKCHYAJTY|the book was deli...|[the, book, was, ...|[delivered, speed...|[delivered speedy...|(1048576,[5006,39...|\n",
            "|\"Cooking with Sei...|The Book of Seita...|A1I3R6RQ3XI76B|the book of seita...|[the, book, of, s...|[seitan, instruct...|[seitan instructi...|(1048576,[106369,...|\n",
            "|\"Cooking with Sei...|it was what i nee...|A2SK6R2DPGY3P2|it was what i nee...|[it, was, what, i...|[needed, learning...|[needed learning,...|(1048576,[128,687...|\n",
            "|\"Cooking with Sei...|\"As a vegetarian ...|A363UEL2VJNBX9|as a vegetarian i...|[as, a, vegetaria...|[vegetarian, alwa...|[vegetarian alway...|(1048576,[16324,3...|\n",
            "|\"Cooking with Sei...|Gluten has been a...|A3HRBWBN7DH9XV|gluten has been a...|[gluten, has, bee...|[gluten, wellkept...|[gluten wellkept,...|(1048576,[64571,9...|\n",
            "+--------------------+--------------------+--------------+--------------------+--------------------+--------------------+--------------------+--------------------+\n",
            "only showing top 5 rows\n",
            "\n"
          ]
        }
      ],
      "source": [
        "featurized_data.show(5)"
      ]
    },
    {
      "cell_type": "code",
      "execution_count": 22,
      "metadata": {
        "id": "ZwN4ts0k9je3"
      },
      "outputs": [],
      "source": [
        "from pyspark.sql.functions import monotonically_increasing_id\n",
        "\n",
        "df_with_id = featurized_data.withColumn(\"Review_ID\", monotonically_increasing_id())"
      ]
    },
    {
      "cell_type": "markdown",
      "metadata": {
        "id": "6g0Pmd6x9je3"
      },
      "source": [
        "## MinHash LSH for Similarity Search"
      ]
    },
    {
      "cell_type": "code",
      "execution_count": 23,
      "metadata": {
        "id": "1juM_zZA9je3"
      },
      "outputs": [],
      "source": [
        "# Apply MinHash\n",
        "mh = MinHashLSH(inputCol=\"features\", outputCol=\"hashes\", numHashTables=6)\n",
        "model = mh.fit(df_with_id)"
      ]
    },
    {
      "cell_type": "code",
      "execution_count": 24,
      "metadata": {
        "id": "C8scUSaQ9je4"
      },
      "outputs": [],
      "source": [
        "# Find similar reviews\n",
        "similar_reviews = model.approxSimilarityJoin(\n",
        "    df_with_id, df_with_id, 0.8, distCol=\"JaccardDistance\"\n",
        ")"
      ]
    },
    {
      "cell_type": "code",
      "execution_count": 25,
      "metadata": {
        "id": "GQwX2pAL9je4"
      },
      "outputs": [],
      "source": [
        "filtered_df = similar_reviews.filter(col(\"datasetA.Review_ID\") != col(\"datasetB.Review_ID\"))"
      ]
    },
    {
      "cell_type": "code",
      "execution_count": 26,
      "metadata": {
        "id": "n9IjUAqR9je4"
      },
      "outputs": [],
      "source": [
        "# keeping only one direction of each pair\n",
        "filtered_df = filtered_df.filter(col(\"datasetA.review_ID\") < col(\"datasetB.review_ID\"))"
      ]
    },
    {
      "cell_type": "code",
      "execution_count": 27,
      "metadata": {
        "id": "gTE00Pb-9je4",
        "outputId": "174ed59e-11f5-45fb-9857-1a585a4644a9",
        "colab": {
          "base_uri": "https://localhost:8080/"
        }
      },
      "outputs": [
        {
          "output_type": "stream",
          "name": "stdout",
          "text": [
            "+---------------------------------------------------------------------------------+---------------------------------------------+----------------------------------------------------------------------------------------------------------------------------------------------------------------------------------------------------------------------------------------------------------------------------------------------------------------------------------------------------------------------------------------------------------------------------------------------------------------------------------------------------------------------------------------------------------------------------------------------------------------------------------------------------------------------------------------------------------------------------------------------------------------------------------------------------------------------------------------------------------------------------------------------------------------------------------------------------------------------------------------------------------------------------------------------------------------------------------------------------------------------------------------------------------------------------------------------------------------------------------------------------------------------------------------------------------------------------------------------------------------------------------------------------------------------+------------------------------------------------------------------------------------------------------------------------------------------------------------------------------------------------------------------------------------------------------------------------------------------------------------------------------------------------------------------------------------------------------------------------------------------------------------------------------------------------------------------------------------------------------------------------------------------------------------------------------------------------------------------------------------------------------------------------------------------------------------------------------------------------------------------------------------------------------------------------------------------------------------------------------------------------------------------------------------------------------------------------------------------------------------------------------------------------------------------------------------------------------------------------------------------------------------------------------------------------------------------------------------------------------------------------------------------------------------------------------------------------------------------------------------------------------------------------------------------------------------------------------------------------------------------------------------------------------------------------+-------------------+\n",
            "|Title_A                                                                          |Title_B                                      |review/text_A                                                                                                                                                                                                                                                                                                                                                                                                                                                                                                                                                                                                                                                                                                                                                                                                                                                                                                                                                                                                                                                                                                                                                                                                                                                                                                                                                                                                         |review/text_B                                                                                                                                                                                                                                                                                                                                                                                                                                                                                                                                                                                                                                                                                                                                                                                                                                                                                                                                                                                                                                                                                                                                                                                                                                                                                                                                                                                                                                                                                                                                                                                                           |JaccardDistance    |\n",
            "+---------------------------------------------------------------------------------+---------------------------------------------+----------------------------------------------------------------------------------------------------------------------------------------------------------------------------------------------------------------------------------------------------------------------------------------------------------------------------------------------------------------------------------------------------------------------------------------------------------------------------------------------------------------------------------------------------------------------------------------------------------------------------------------------------------------------------------------------------------------------------------------------------------------------------------------------------------------------------------------------------------------------------------------------------------------------------------------------------------------------------------------------------------------------------------------------------------------------------------------------------------------------------------------------------------------------------------------------------------------------------------------------------------------------------------------------------------------------------------------------------------------------------------------------------------------------+------------------------------------------------------------------------------------------------------------------------------------------------------------------------------------------------------------------------------------------------------------------------------------------------------------------------------------------------------------------------------------------------------------------------------------------------------------------------------------------------------------------------------------------------------------------------------------------------------------------------------------------------------------------------------------------------------------------------------------------------------------------------------------------------------------------------------------------------------------------------------------------------------------------------------------------------------------------------------------------------------------------------------------------------------------------------------------------------------------------------------------------------------------------------------------------------------------------------------------------------------------------------------------------------------------------------------------------------------------------------------------------------------------------------------------------------------------------------------------------------------------------------------------------------------------------------------------------------------------------------+-------------------+\n",
            "|High Fit, Low Fat Vegetarian                                                     |High Fit, Low Fat Vegetarian                 |I own both the High Fit - Low Fat cookbooks (regular and vegetarian). The books are good for both novice and experienced chefs. Using these cookbooks, I have learned how to eat incredibly healthy while serving really tasty meals! The Eggplant Parmesan recipe is now a requirement for potlucks I attend. I love it because it is so easy to make. The cookbooks make great gifts too, I bought 10 as gifts for family members. Although I own many cookbooks, I do the majority of my cooking from the High Fit - Low Fat recipes.                                                                                                                                                                                                                                                                                                                                                                                                                                                                                                                                                                                                                                                                                                                                                                                                                                                                              |I own both of the High Fit - Low Fat cookbooks (regular and vegetarian). The books are good for both novice and experienced chefs. Using these cookbooks, I have learned how to eat incredibly healthy while serving really tasty meals! The eggplant parmesan recipe (Vegetarian cookbook) is now a requirement for potlucks I attend. I love it because it is so easy to make. The cookbooks make great gifts too (I bought 10 as gifts for family members)! Although I own many cookbooks, I do the majority of my cooking from the High Fit - Low Fat recipes.                                                                                                                                                                                                                                                                                                                                                                                                                                                                                                                                                                                                                                                                                                                                                                                                                                                                                                                                                                                                                                                      |0.08510638297872342|\n",
            "|The Frugal Gourmet Cooks Three Ancient Cuisines: China * Greece * Rome           |The Frugal Gourmet on Our Immigrant Ancestors|This is an excellent cook book and this is the handy PB edition! It's full of great recipes and stories by a very talented cook and writer. This one focuses on 3 major influences in the culinary world. Jeff Smith entertained us for years on his PBS program 'The Frugal Gourmet'. Not only did he teach us many savory dishes, he also educated us. Not satisfied with just cooking delicious meals for his viewers, he would give detailed history lessons about the origins of the dish and made it all a lot of fun!This may be Mr. Smiths best cook book and it is a worthy edition to everyone's cook book library. I own and have read many, if not all of his cook books, not only for the man's knowledge of cooking, but his incredible wit! This guy was funny and I would have loved to have hung out and throw a few beers down with him.Unfortunately, this man had some very seriously bad press released about his personal life and well..... I am not one to spread rumors.....he seemed like a great guy and sadly he died before he was able to clear his name.R.I.P. Frugs!                                                                                                                                                                                                                                                                                                                  |My title blurb is a funny quote I remembered, Jeff Smith spoke on his entertaining PBS show. Before 'The Food Network' we had the witty and talented 'Frugal Gourmet'. This book deals with some simplistic, yet very good classic old world dishes. Nothing fancy, just great traditional food!This is yet another excellent cook book by Jeff Smith! It's full of great recipes and stories by a very talented cook and writer. This one focuses on old world cooking. I have used many of these recipes and found them to be very good. Being a home grown cook myself and having had many of my grandmother's classic recipes handed down to me, I found this book to be very helpful in expanding my culinary taste buds.Jeff Smith entertained us for years on his PBS program 'The Frugal Gourmet'. Not only did he teach us many savory dishes, he also educated us. Not satisfied with just cooking delicious meals for his viewers, he would give detailed history lessons about the origins of the dish and made it all a lot of fun!This may be Mr. Smiths best cook book and it is a worthy edition to everyone's cook book library. I own and have read many, if not all of his cook books, not only for the man's knowledge of cooking, but his incredible wit! This guy was funny and I would have loved to have hung out and throw a few beers down with him.Unfortunately, this man had some very seriously bad press released about his personal life and well..... I am not one to spread rumors.....he seemed like a great guy and sadly he died before he was able to clear his name.R.I.P. Frugs!|0.42361111111111116|\n",
            "|Cooking with Too Hot Tamales : Recipes & Tips From Tv Food's Spiciest Cooking Duo|Mesa Mexicana                                |Mary Sue Miliken and Susan Feniger are two of the top chefs in LA. (And maybe the top female duo.) For those of us who grew up equating Mexican food with Tex-Mex, Miliken and Feniger's inventive take on traditional Mexican cuisine is a revelation. Their &quot;Border Grill&quot; in Santa Monica (4th and Broadway) is a noisy, splashy, foodie haven with superb drinks, a decent wine/beer list, and amazing food. For several years they also produced a fun and informational show on the Food network before that cable network went all-Emeril all-the-time. &quot;Cooking with Two Hot Tamales&quot; captures a lot of recipes and tips from the show. Many of the recipes herein one occasionally sees on Border Grill's menu. The house gucamole recipe is almost worth the price of the book on its own!As a cookbook, Two Hot Tamales is interesting, has an attractive layout, and, by the minimal standards of the genre, is well-written. Unlike their Mesa Mexicana, which I recomend only for the hobbyist chef with access to a decent Mexican grocer and time on his/her hands, Two Hot Tamales can be used on an everyday basis. Few of the recipes involve intensive prep work -- after all, they had to be prepared within the confines of a 30 minute TV show. Equally important for users outside the South-west, few of the recipes require specialized ingredients. Highly recommended.|Mary Sue Miliken and Susan Feniger are two of the top chefs in LA. Their &quot;Border Grill&quot; in Santa Monica (4th and Broadway) is a noisy, splashy, foodie haven with superb drinks, a decent wine/beer list, and amazing food. Mesa Mexicana offers recipes that one might easily see on Border Grill's menu. For those of us who grew up equating Mexican food with Tex-Mex, Miliken and Feniger's inventive take on traditional Mexican cuisine is a revelation.As a cookbook, Mesa Mexicana is interesting, has an attractive layout, and, by the minimal standards of the genre, is well-written. One would not want to use it on an everyday basis. Many of the recipes involve a fairly intensive amount of prep work and/or require specialized ingredients. For the hobbyist chef with access to a decent Mexican grocer and time on his/her hands, however, it is an inspiring and provocative work. Highly recommended on that qualified basis.                                                                                                                                                                                                                                                                                                                                                                                                                                                                                                                                                                                                                                                        |0.6363636363636364 |\n",
            "+---------------------------------------------------------------------------------+---------------------------------------------+----------------------------------------------------------------------------------------------------------------------------------------------------------------------------------------------------------------------------------------------------------------------------------------------------------------------------------------------------------------------------------------------------------------------------------------------------------------------------------------------------------------------------------------------------------------------------------------------------------------------------------------------------------------------------------------------------------------------------------------------------------------------------------------------------------------------------------------------------------------------------------------------------------------------------------------------------------------------------------------------------------------------------------------------------------------------------------------------------------------------------------------------------------------------------------------------------------------------------------------------------------------------------------------------------------------------------------------------------------------------------------------------------------------------+------------------------------------------------------------------------------------------------------------------------------------------------------------------------------------------------------------------------------------------------------------------------------------------------------------------------------------------------------------------------------------------------------------------------------------------------------------------------------------------------------------------------------------------------------------------------------------------------------------------------------------------------------------------------------------------------------------------------------------------------------------------------------------------------------------------------------------------------------------------------------------------------------------------------------------------------------------------------------------------------------------------------------------------------------------------------------------------------------------------------------------------------------------------------------------------------------------------------------------------------------------------------------------------------------------------------------------------------------------------------------------------------------------------------------------------------------------------------------------------------------------------------------------------------------------------------------------------------------------------------+-------------------+\n",
            "\n"
          ]
        }
      ],
      "source": [
        "top3 = (\n",
        "    filtered_df\n",
        "    .orderBy(col(\"JaccardDistance\").asc())\n",
        "    .limit(3)\n",
        ")\n",
        "\n",
        "top3.select(\n",
        "    col(\"datasetA.Title\").alias(\"Title_A\"),\n",
        "    col(\"datasetB.Title\").alias(\"Title_B\"),\n",
        "    col(\"datasetA.review/text\").alias(\"review/text_A\"),\n",
        "    col(\"datasetB.review/text\").alias(\"review/text_B\"),\n",
        "    col(\"JaccardDistance\")\n",
        ").show(5, truncate=False)"
      ]
    },
    {
      "cell_type": "code",
      "execution_count": 28,
      "metadata": {
        "id": "1Rq-dHc89je4"
      },
      "outputs": [],
      "source": [
        "# filter out pairs with Jaccard distance of 0\n",
        "filtered_df = filtered_df.filter(col(\"JaccardDistance\") > 0)"
      ]
    },
    {
      "cell_type": "code",
      "execution_count": 29,
      "metadata": {
        "id": "EjQ4t1Si9je4",
        "outputId": "f000dd9c-362b-49cd-8f33-6c0596ffca4e",
        "colab": {
          "base_uri": "https://localhost:8080/"
        }
      },
      "outputs": [
        {
          "output_type": "stream",
          "name": "stdout",
          "text": [
            "+---------------------------------------------------------------------------------+---------------------------------------------+----------------------------------------------------------------------------------------------------------------------------------------------------------------------------------------------------------------------------------------------------------------------------------------------------------------------------------------------------------------------------------------------------------------------------------------------------------------------------------------------------------------------------------------------------------------------------------------------------------------------------------------------------------------------------------------------------------------------------------------------------------------------------------------------------------------------------------------------------------------------------------------------------------------------------------------------------------------------------------------------------------------------------------------------------------------------------------------------------------------------------------------------------------------------------------------------------------------------------------------------------------------------------------------------------------------------------------------------------------------------------------------------------------------------+------------------------------------------------------------------------------------------------------------------------------------------------------------------------------------------------------------------------------------------------------------------------------------------------------------------------------------------------------------------------------------------------------------------------------------------------------------------------------------------------------------------------------------------------------------------------------------------------------------------------------------------------------------------------------------------------------------------------------------------------------------------------------------------------------------------------------------------------------------------------------------------------------------------------------------------------------------------------------------------------------------------------------------------------------------------------------------------------------------------------------------------------------------------------------------------------------------------------------------------------------------------------------------------------------------------------------------------------------------------------------------------------------------------------------------------------------------------------------------------------------------------------------------------------------------------------------------------------------------------------+-------------------+\n",
            "|Title_A                                                                          |Title_B                                      |review/text_A                                                                                                                                                                                                                                                                                                                                                                                                                                                                                                                                                                                                                                                                                                                                                                                                                                                                                                                                                                                                                                                                                                                                                                                                                                                                                                                                                                                                         |review/text_B                                                                                                                                                                                                                                                                                                                                                                                                                                                                                                                                                                                                                                                                                                                                                                                                                                                                                                                                                                                                                                                                                                                                                                                                                                                                                                                                                                                                                                                                                                                                                                                                           |JaccardDistance    |\n",
            "+---------------------------------------------------------------------------------+---------------------------------------------+----------------------------------------------------------------------------------------------------------------------------------------------------------------------------------------------------------------------------------------------------------------------------------------------------------------------------------------------------------------------------------------------------------------------------------------------------------------------------------------------------------------------------------------------------------------------------------------------------------------------------------------------------------------------------------------------------------------------------------------------------------------------------------------------------------------------------------------------------------------------------------------------------------------------------------------------------------------------------------------------------------------------------------------------------------------------------------------------------------------------------------------------------------------------------------------------------------------------------------------------------------------------------------------------------------------------------------------------------------------------------------------------------------------------+------------------------------------------------------------------------------------------------------------------------------------------------------------------------------------------------------------------------------------------------------------------------------------------------------------------------------------------------------------------------------------------------------------------------------------------------------------------------------------------------------------------------------------------------------------------------------------------------------------------------------------------------------------------------------------------------------------------------------------------------------------------------------------------------------------------------------------------------------------------------------------------------------------------------------------------------------------------------------------------------------------------------------------------------------------------------------------------------------------------------------------------------------------------------------------------------------------------------------------------------------------------------------------------------------------------------------------------------------------------------------------------------------------------------------------------------------------------------------------------------------------------------------------------------------------------------------------------------------------------------+-------------------+\n",
            "|High Fit, Low Fat Vegetarian                                                     |High Fit, Low Fat Vegetarian                 |I own both the High Fit - Low Fat cookbooks (regular and vegetarian). The books are good for both novice and experienced chefs. Using these cookbooks, I have learned how to eat incredibly healthy while serving really tasty meals! The Eggplant Parmesan recipe is now a requirement for potlucks I attend. I love it because it is so easy to make. The cookbooks make great gifts too, I bought 10 as gifts for family members. Although I own many cookbooks, I do the majority of my cooking from the High Fit - Low Fat recipes.                                                                                                                                                                                                                                                                                                                                                                                                                                                                                                                                                                                                                                                                                                                                                                                                                                                                              |I own both of the High Fit - Low Fat cookbooks (regular and vegetarian). The books are good for both novice and experienced chefs. Using these cookbooks, I have learned how to eat incredibly healthy while serving really tasty meals! The eggplant parmesan recipe (Vegetarian cookbook) is now a requirement for potlucks I attend. I love it because it is so easy to make. The cookbooks make great gifts too (I bought 10 as gifts for family members)! Although I own many cookbooks, I do the majority of my cooking from the High Fit - Low Fat recipes.                                                                                                                                                                                                                                                                                                                                                                                                                                                                                                                                                                                                                                                                                                                                                                                                                                                                                                                                                                                                                                                      |0.08510638297872342|\n",
            "|The Frugal Gourmet Cooks Three Ancient Cuisines: China * Greece * Rome           |The Frugal Gourmet on Our Immigrant Ancestors|This is an excellent cook book and this is the handy PB edition! It's full of great recipes and stories by a very talented cook and writer. This one focuses on 3 major influences in the culinary world. Jeff Smith entertained us for years on his PBS program 'The Frugal Gourmet'. Not only did he teach us many savory dishes, he also educated us. Not satisfied with just cooking delicious meals for his viewers, he would give detailed history lessons about the origins of the dish and made it all a lot of fun!This may be Mr. Smiths best cook book and it is a worthy edition to everyone's cook book library. I own and have read many, if not all of his cook books, not only for the man's knowledge of cooking, but his incredible wit! This guy was funny and I would have loved to have hung out and throw a few beers down with him.Unfortunately, this man had some very seriously bad press released about his personal life and well..... I am not one to spread rumors.....he seemed like a great guy and sadly he died before he was able to clear his name.R.I.P. Frugs!                                                                                                                                                                                                                                                                                                                  |My title blurb is a funny quote I remembered, Jeff Smith spoke on his entertaining PBS show. Before 'The Food Network' we had the witty and talented 'Frugal Gourmet'. This book deals with some simplistic, yet very good classic old world dishes. Nothing fancy, just great traditional food!This is yet another excellent cook book by Jeff Smith! It's full of great recipes and stories by a very talented cook and writer. This one focuses on old world cooking. I have used many of these recipes and found them to be very good. Being a home grown cook myself and having had many of my grandmother's classic recipes handed down to me, I found this book to be very helpful in expanding my culinary taste buds.Jeff Smith entertained us for years on his PBS program 'The Frugal Gourmet'. Not only did he teach us many savory dishes, he also educated us. Not satisfied with just cooking delicious meals for his viewers, he would give detailed history lessons about the origins of the dish and made it all a lot of fun!This may be Mr. Smiths best cook book and it is a worthy edition to everyone's cook book library. I own and have read many, if not all of his cook books, not only for the man's knowledge of cooking, but his incredible wit! This guy was funny and I would have loved to have hung out and throw a few beers down with him.Unfortunately, this man had some very seriously bad press released about his personal life and well..... I am not one to spread rumors.....he seemed like a great guy and sadly he died before he was able to clear his name.R.I.P. Frugs!|0.42361111111111116|\n",
            "|Cooking with Too Hot Tamales : Recipes & Tips From Tv Food's Spiciest Cooking Duo|Mesa Mexicana                                |Mary Sue Miliken and Susan Feniger are two of the top chefs in LA. (And maybe the top female duo.) For those of us who grew up equating Mexican food with Tex-Mex, Miliken and Feniger's inventive take on traditional Mexican cuisine is a revelation. Their &quot;Border Grill&quot; in Santa Monica (4th and Broadway) is a noisy, splashy, foodie haven with superb drinks, a decent wine/beer list, and amazing food. For several years they also produced a fun and informational show on the Food network before that cable network went all-Emeril all-the-time. &quot;Cooking with Two Hot Tamales&quot; captures a lot of recipes and tips from the show. Many of the recipes herein one occasionally sees on Border Grill's menu. The house gucamole recipe is almost worth the price of the book on its own!As a cookbook, Two Hot Tamales is interesting, has an attractive layout, and, by the minimal standards of the genre, is well-written. Unlike their Mesa Mexicana, which I recomend only for the hobbyist chef with access to a decent Mexican grocer and time on his/her hands, Two Hot Tamales can be used on an everyday basis. Few of the recipes involve intensive prep work -- after all, they had to be prepared within the confines of a 30 minute TV show. Equally important for users outside the South-west, few of the recipes require specialized ingredients. Highly recommended.|Mary Sue Miliken and Susan Feniger are two of the top chefs in LA. Their &quot;Border Grill&quot; in Santa Monica (4th and Broadway) is a noisy, splashy, foodie haven with superb drinks, a decent wine/beer list, and amazing food. Mesa Mexicana offers recipes that one might easily see on Border Grill's menu. For those of us who grew up equating Mexican food with Tex-Mex, Miliken and Feniger's inventive take on traditional Mexican cuisine is a revelation.As a cookbook, Mesa Mexicana is interesting, has an attractive layout, and, by the minimal standards of the genre, is well-written. One would not want to use it on an everyday basis. Many of the recipes involve a fairly intensive amount of prep work and/or require specialized ingredients. For the hobbyist chef with access to a decent Mexican grocer and time on his/her hands, however, it is an inspiring and provocative work. Highly recommended on that qualified basis.                                                                                                                                                                                                                                                                                                                                                                                                                                                                                                                                                                                                                                                        |0.6363636363636364 |\n",
            "+---------------------------------------------------------------------------------+---------------------------------------------+----------------------------------------------------------------------------------------------------------------------------------------------------------------------------------------------------------------------------------------------------------------------------------------------------------------------------------------------------------------------------------------------------------------------------------------------------------------------------------------------------------------------------------------------------------------------------------------------------------------------------------------------------------------------------------------------------------------------------------------------------------------------------------------------------------------------------------------------------------------------------------------------------------------------------------------------------------------------------------------------------------------------------------------------------------------------------------------------------------------------------------------------------------------------------------------------------------------------------------------------------------------------------------------------------------------------------------------------------------------------------------------------------------------------+------------------------------------------------------------------------------------------------------------------------------------------------------------------------------------------------------------------------------------------------------------------------------------------------------------------------------------------------------------------------------------------------------------------------------------------------------------------------------------------------------------------------------------------------------------------------------------------------------------------------------------------------------------------------------------------------------------------------------------------------------------------------------------------------------------------------------------------------------------------------------------------------------------------------------------------------------------------------------------------------------------------------------------------------------------------------------------------------------------------------------------------------------------------------------------------------------------------------------------------------------------------------------------------------------------------------------------------------------------------------------------------------------------------------------------------------------------------------------------------------------------------------------------------------------------------------------------------------------------------------+-------------------+\n",
            "\n"
          ]
        }
      ],
      "source": [
        "top3 = (\n",
        "    filtered_df\n",
        "    .orderBy(col(\"JaccardDistance\").asc())\n",
        "    .limit(3)\n",
        ")\n",
        "\n",
        "top3.select(\n",
        "    col(\"datasetA.Title\").alias(\"Title_A\"),\n",
        "    col(\"datasetB.Title\").alias(\"Title_B\"),\n",
        "    col(\"datasetA.review/text\").alias(\"review/text_A\"),\n",
        "    col(\"datasetB.review/text\").alias(\"review/text_B\"),\n",
        "    col(\"JaccardDistance\")\n",
        ").show(5, truncate=False)"
      ]
    },
    {
      "cell_type": "markdown",
      "metadata": {
        "id": "kkx52kfn9je4"
      },
      "source": [
        "## TF-IDF + Cosine LSH"
      ]
    },
    {
      "cell_type": "code",
      "execution_count": 30,
      "metadata": {
        "id": "5K0JxWkU9je5"
      },
      "outputs": [],
      "source": [
        "from pyspark.ml.feature import Tokenizer, HashingTF, IDF, BucketedRandomProjectionLSH\n",
        "from pyspark.sql.functions import col"
      ]
    },
    {
      "cell_type": "code",
      "execution_count": 31,
      "metadata": {
        "id": "OYHgI3039je5"
      },
      "outputs": [],
      "source": [
        "from pyspark.sql.functions import size\n",
        "\n",
        "# exclude rows where 'filtered_text' has less than 6 words\n",
        "featurized_data = featurized_data.filter(size(col(\"filtered_text\")) >= 6)"
      ]
    },
    {
      "cell_type": "code",
      "execution_count": 32,
      "metadata": {
        "id": "czpMxRKA9je5"
      },
      "outputs": [],
      "source": [
        "# Apply IDF to get TF-IDF vectors\n",
        "idf = IDF(inputCol=\"features\", outputCol=\"tfidf_features\")\n",
        "idf_model = idf.fit(featurized_data)\n",
        "df_tfidf = idf_model.transform(featurized_data)"
      ]
    },
    {
      "cell_type": "code",
      "execution_count": 33,
      "metadata": {
        "id": "jEb1aIdD9je5",
        "outputId": "e82f84f2-85c1-4ad7-a058-e0c44fc089dd",
        "colab": {
          "base_uri": "https://localhost:8080/"
        }
      },
      "outputs": [
        {
          "output_type": "stream",
          "name": "stdout",
          "text": [
            "+--------------------+--------------------+--------------+--------------------+--------------------+--------------------+--------------------+--------------------+--------------------+\n",
            "|               Title|         review/text|       User_id|          clean_text|               words|       filtered_text|            shingles|            features|      tfidf_features|\n",
            "+--------------------+--------------------+--------------+--------------------+--------------------+--------------------+--------------------+--------------------+--------------------+\n",
            "|\"Cooking with Sei...|The book was deli...|A1FTPHKCHYAJTY|the book was deli...|[the, book, was, ...|[delivered, speed...|[delivered speedy...|(1048576,[5006,39...|(1048576,[5006,39...|\n",
            "|\"Cooking with Sei...|The Book of Seita...|A1I3R6RQ3XI76B|the book of seita...|[the, book, of, s...|[seitan, instruct...|[seitan instructi...|(1048576,[106369,...|(1048576,[106369,...|\n",
            "|\"Cooking with Sei...|it was what i nee...|A2SK6R2DPGY3P2|it was what i nee...|[it, was, what, i...|[needed, learning...|[needed learning,...|(1048576,[128,687...|(1048576,[128,687...|\n",
            "|\"Cooking with Sei...|\"As a vegetarian ...|A363UEL2VJNBX9|as a vegetarian i...|[as, a, vegetaria...|[vegetarian, alwa...|[vegetarian alway...|(1048576,[16324,3...|(1048576,[16324,3...|\n",
            "|\"Cooking with Sei...|Gluten has been a...|A3HRBWBN7DH9XV|gluten has been a...|[gluten, has, bee...|[gluten, wellkept...|[gluten wellkept,...|(1048576,[64571,9...|(1048576,[64571,9...|\n",
            "+--------------------+--------------------+--------------+--------------------+--------------------+--------------------+--------------------+--------------------+--------------------+\n",
            "only showing top 5 rows\n",
            "\n"
          ]
        }
      ],
      "source": [
        "df_tfidf.show(5)"
      ]
    },
    {
      "cell_type": "code",
      "execution_count": 34,
      "metadata": {
        "id": "GwSZOFjd9je5"
      },
      "outputs": [],
      "source": [
        "from pyspark.sql.functions import monotonically_increasing_id\n",
        "\n",
        "df_with_id = df_tfidf.withColumn(\"Review_ID\", monotonically_increasing_id())"
      ]
    },
    {
      "cell_type": "code",
      "execution_count": 35,
      "metadata": {
        "id": "TF2hYISF9je5"
      },
      "outputs": [],
      "source": [
        "# LSH with Cosine-like projection (BucketedRandomProjectionLSH)\n",
        "brp = BucketedRandomProjectionLSH(inputCol=\"features\", outputCol=\"hashes\", bucketLength=2.5, numHashTables=4)  #number of different “ways” you're looking for similarity.\n",
        "\n",
        "\n",
        "brp_model = brp.fit(df_with_id)"
      ]
    },
    {
      "cell_type": "code",
      "execution_count": 36,
      "metadata": {
        "id": "2KOdvvXR9je6"
      },
      "outputs": [],
      "source": [
        "# Self-join to find similar review pairs\n",
        "similar_pairs = brp_model.approxSimilarityJoin(df_with_id, df_with_id, threshold=5.0, distCol=\"distance\")"
      ]
    },
    {
      "cell_type": "code",
      "execution_count": 37,
      "metadata": {
        "id": "h3q6mefv9je6"
      },
      "outputs": [],
      "source": [
        "# Filter out duplicates and self-pairs\n",
        "similar_pairs_filtered = similar_pairs \\\n",
        "    .filter(col(\"datasetA.Review_ID\") < col(\"datasetB.Review_ID\")) \\\n",
        "    .filter(col(\"datasetA.Review_ID\") != col(\"datasetB.Review_ID\")) \\\n",
        "    .select(\"datasetA.Title\", \"datasetB.Title\", \"datasetA.User_id\", \"datasetB.User_id\", \"datasetA.review/text\", \"datasetB.review/text\", \"distance\")"
      ]
    },
    {
      "cell_type": "code",
      "execution_count": 38,
      "metadata": {
        "id": "mbYhDS8K9je6",
        "outputId": "fb52bdac-9738-40b9-8295-573983aade24",
        "colab": {
          "base_uri": "https://localhost:8080/"
        }
      },
      "outputs": [
        {
          "output_type": "stream",
          "name": "stdout",
          "text": [
            "+-------------------------------------------------------------------------------------+--------------------------------------+--------------+--------------+----------------------------------------------------------------------------------------------------+----------------------------------------------------------------------------------------------------+------------------+\n",
            "|                                                                                Title|                                 Title|       User_id|       User_id|                                                                                         review/text|                                                                                         review/text|          distance|\n",
            "+-------------------------------------------------------------------------------------+--------------------------------------+--------------+--------------+----------------------------------------------------------------------------------------------------+----------------------------------------------------------------------------------------------------+------------------+\n",
            "|                                                         High Fit, Low Fat Vegetarian|          High Fit, Low Fat Vegetarian|A2JDVB1LKLN97N| AK9FPASRM79OX|I own both the High Fit - Low Fat cookbooks (regular and vegetarian). The books are good for both...|I own both of the High Fit - Low Fat cookbooks (regular and vegetarian). The books are good for b...|               2.0|\n",
            "|Eating Well Through Cancer: Easy Recipes & Recommendations During and After Treatment|           Stalking the Wild Asparagus|A2I48KSLDRXY05|A3LJ3NR4JOZL0D|                      The book was in excellent condition, it came in a timely fashion. No problems.|                              Everything came in timely fashion and in excellant condition.Thank you| 2.449489742783178|\n",
            "|                                        1000 Vegetarian Recipes From Around the World|Good Housekeeping Illustrated Cookbook| AYKWM682POY3J| A1ZGX2HV4L1JE|                     Whether you are vegetarian or not, this is the best cookbook I have ever owned.|                            this is best cookbook i have ever had. mine was falling apart. thank you|2.6457513110645907|\n",
            "+-------------------------------------------------------------------------------------+--------------------------------------+--------------+--------------+----------------------------------------------------------------------------------------------------+----------------------------------------------------------------------------------------------------+------------------+\n",
            "only showing top 3 rows\n",
            "\n"
          ]
        }
      ],
      "source": [
        "similar_pairs_filtered.orderBy(\"distance\").show(3, truncate=100)"
      ]
    },
    {
      "cell_type": "code",
      "execution_count": 39,
      "metadata": {
        "id": "otAO8xh59je6"
      },
      "outputs": [],
      "source": [
        "# exlude pairs that are too similar (distance > 2.5)\n",
        "similar_pairs_filtered = similar_pairs_filtered.filter(col(\"distance\") > 2.5)"
      ]
    },
    {
      "cell_type": "code",
      "execution_count": 40,
      "metadata": {
        "id": "19qoCrUY9je6",
        "outputId": "38b8ebe3-f7b2-4d46-8117-e11580889d3c",
        "colab": {
          "base_uri": "https://localhost:8080/"
        }
      },
      "outputs": [
        {
          "output_type": "stream",
          "name": "stdout",
          "text": [
            "+------------------------------------------------------------------+----------------------------------------------------------------------------------------------------+--------------+--------------+----------------------------------------------------------------------------------------------------+----------------------------------------------------------------------------------------------------+------------------+\n",
            "|                                                             Title|                                                                                               Title|       User_id|       User_id|                                                                                         review/text|                                                                                         review/text|          distance|\n",
            "+------------------------------------------------------------------+----------------------------------------------------------------------------------------------------+--------------+--------------+----------------------------------------------------------------------------------------------------+----------------------------------------------------------------------------------------------------+------------------+\n",
            "|                     1000 Vegetarian Recipes From Around the World|                                                              Good Housekeeping Illustrated Cookbook| AYKWM682POY3J| A1ZGX2HV4L1JE|                     Whether you are vegetarian or not, this is the best cookbook I have ever owned.|                            this is best cookbook i have ever had. mine was falling apart. thank you|2.6457513110645907|\n",
            "|                                 Southwest: the Beautiful Cookbook|The Bread Lover's Bread Machine Cookbook: A Master Baker's 300 Favorite Recipes for Perfect-Every...| ASJLYXBHFUWR0|A1UN6WF8OM9UPX|  My Dad bought this book and he Loves it! There are great recipes and has a picture of each dish...|My wife wanted this book and she loves it some recipes are different then what she has but she is...|2.8284271247461903|\n",
            "|                                       Cooking with Texas Highways|                                                          Farm Journal's Freezing & Canning Cookbook|A16Y5FUEV8IIKG|A1ZQ53CQ1Q4A4H|I already had this cookbook in my collection and bought this one for a gift for a good friend. Great|    What a valuable resource! I already had this book but bought this one as a gift for my daughter.|2.8284271247461903|\n",
            "|Clarita's Cocina: Great Traditional Recipes from a Spanish Kitchen|       How to Bake : Complete Guide to Perfect Cakes, Cookies, Pies, Tarts, Breads, Pizzas, Muffins,|A2SRY5IC7TY7SP|A2C5VS0HFDLZYQ|                     The book was exactly as presented and shipped in a very timely manner. Thanks !|                      This book is wonderful! Seller sent it in great shape and in a timely manner!!|2.8284271247461903|\n",
            "|                Romantic Wedding Cakes (Merehurst Cake Decorating)|    The Biggest Loser Cookbook: More Than 125 Healthy, Delicious Recipes Adapted from NBC's Hit Show|A2DVO18QKQX2QZ|A29NK93AG4UHKQ|                        Great condition. Better than I expected and the delivery time was excellent.|Great delivery time! The book was in excellent condition and arrived before schedule. I would ord...|2.8284271247461903|\n",
            "+------------------------------------------------------------------+----------------------------------------------------------------------------------------------------+--------------+--------------+----------------------------------------------------------------------------------------------------+----------------------------------------------------------------------------------------------------+------------------+\n",
            "only showing top 5 rows\n",
            "\n"
          ]
        }
      ],
      "source": [
        "similar_pairs_filtered.orderBy(\"distance\").show(5, truncate=100)"
      ]
    }
  ],
  "metadata": {
    "kernelspec": {
      "display_name": "pyspark310",
      "language": "python",
      "name": "python3"
    },
    "language_info": {
      "codemirror_mode": {
        "name": "ipython",
        "version": 3
      },
      "file_extension": ".py",
      "mimetype": "text/x-python",
      "name": "python",
      "nbconvert_exporter": "python",
      "pygments_lexer": "ipython3",
      "version": "3.10.16"
    },
    "colab": {
      "provenance": [],
      "include_colab_link": true
    }
  },
  "nbformat": 4,
  "nbformat_minor": 0
}